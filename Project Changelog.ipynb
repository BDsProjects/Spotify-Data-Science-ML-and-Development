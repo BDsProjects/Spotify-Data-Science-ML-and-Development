{
 "cells": [
  {
   "cell_type": "markdown",
   "metadata": {},
   "source": [
    "<h1>Spotify Data Science Project and File Change Log<h1>\n",
    "\n",
    "<h3> Project Goals <h3>\n",
    "<h5><p>Using the spotify long term listening data from the user:<h5><p>\n",
    "<h5><p>1. Create concise and informative displays of data<h5><p> \n",
    "<h5><p>2. Dynamic responding charts/graphs<h5><p>\n",
    "<h5><p>3. Create machine learning models for building playlists based on past listening habits<p><h5>\n"
   ]
  },
  {
   "cell_type": "markdown",
   "metadata": {},
   "source": [
    "<h1>File Changelog<h1>\n"
   ]
  },
  {
   "cell_type": "markdown",
   "metadata": {},
   "source": [
    "<h3>AutomatedLongTermListingFunction.py<h3>\n",
    "<p>Created as an all in 1 function for removing personal data, making the ms_played column conversion to minutes, and eliminating unnecessary characters \n",
    "from the columns: <p>\n",
    "\n",
    "<h5>Current Issues<h5>\n",
    "<h5><p>1: Primary issue is related to initializing the packages first, then calling the function. The function currently pulls correctly, but is showing\n",
    "errors with pandas which is the first package used. [3/28/24]<p><h5>\n",
    "<h5><p>2: The second issue is related to calling the function as a whole immediately. There needs to be a time where it is initialized and its packages imported. I am assuming I can add in an additional block of somesort, but not sure how I do this. Calling the function as a whole may be also causing errors with the rename functions but that may also be related to issue 1. [3/28/24]<p><h5>\n"
   ]
  },
  {
   "cell_type": "markdown",
   "metadata": {},
   "source": [
    "<h2> AutomatedImport.ipynb<h2>\n",
    "<h4><p>Uses the above function to import and format everything automatically.<p><h4> \n",
    "<h3>Current Issues<h3>\n",
    "<h5><p>1. All current issues are related to the automatic importing function at this time.<h5><p>\n",
    "<h3>Future Add-ins<h3>\n",
    "<h4><p>1. Export the data in a format so that it can be publicly used without persoanl details left in it.<p><h4>\n",
    "<h4><p>2. Add an option to remove the username as it is the last data identifier.<p><h4>\n"
   ]
  },
  {
   "cell_type": "markdown",
   "metadata": {},
   "source": [
    "<h2>TkinterFrameToDevelop.py<h2>\n",
    "\n",
    "<h4><p>Originally for developing a cycle analysis calculator based on initial parameters. It has not been changed from that, but will be used as a UI for importing the datasets potentially. Otherwise may be used for some purpose down the road.<p><h4>\n",
    "\n",
    "<h3>Current Issues<h3>\n",
    "<h4><p>1: Not updated to reflect this project, shows the previous setup for an unrelated project. [3/28/24]<p><h4>\n"
   ]
  }
 ],
 "metadata": {
  "kernelspec": {
   "display_name": "Python 3",
   "language": "python",
   "name": "python3"
  },
  "language_info": {
   "name": "python",
   "version": "3.11.5"
  }
 },
 "nbformat": 4,
 "nbformat_minor": 2
}
