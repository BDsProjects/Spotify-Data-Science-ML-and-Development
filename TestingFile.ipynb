{
 "cells": [
  {
   "cell_type": "code",
   "execution_count": 14,
   "metadata": {},
   "outputs": [],
   "source": [
    "import pandas as pd\n",
    "import seaborn as sns\n",
    "import os\n",
    "import matplotlib as plt \n",
    "import json\n",
    "import importlib\n",
    "import glob"
   ]
  },
  {
   "cell_type": "markdown",
   "metadata": {},
   "source": [
    "Create a test to run over one file, then add a second in using glob"
   ]
  },
  {
   "cell_type": "code",
   "execution_count": 12,
   "metadata": {},
   "outputs": [
    {
     "name": "stdout",
     "output_type": "stream",
     "text": [
      "C:\\\\Users\\\\billy\\\\Repositories\\\\Pre-Commit-Development\\\\2024 Spotify Data\\\\Spotify Extended Streaming History\n"
     ]
    }
   ],
   "source": [
    "FolderLocation = input(\"Please Input the file path for the folder of the Long Term Listening Logs\")\n",
    "FolderLocation = FolderLocation.replace(\"\\\\\", \"\\\\\\\\\")\n",
    "print(FolderLocation)"
   ]
  },
  {
   "cell_type": "code",
   "execution_count": 17,
   "metadata": {},
   "outputs": [
    {
     "name": "stdout",
     "output_type": "stream",
     "text": [
      "C:\\Users\\billy\\Repositories\\Pre-Commit-Development\\2024 Spotify Data\\Spotify Extended Streaming History\\Streaming_History_Audio_2021_2.json\n"
     ]
    }
   ],
   "source": [
    "#FolderLocation = input(\"Please Input the file path for the folder of the Long Term Listening Logs\")\n",
    "FolderLocation = r\"C:\\Users\\billy\\Repositories\\Pre-Commit-Development\\2024 Spotify Data\\Spotify Extended Streaming History\"\n",
    "# FolderLocation = FolderLocation.replace(\"\\\\\", \"\\\\\\\\\")\n",
    "#FilePath = input(\"Please Input the file path for the file of the Long Term Listening Log\")\n",
    "FilePath = r\"C:\\Users\\billy\\Repositories\\Pre-Commit-Development\\2024 Spotify Data\\Spotify Extended Streaming History\\Streaming_History_Audio_2021_2.json\"\n",
    "# FilePath = FilePath.replace(\"\\\\\", \"\\\\\\\\\")\n",
    "print(FilePath)\n"
   ]
  },
  {
   "cell_type": "code",
   "execution_count": 18,
   "metadata": {},
   "outputs": [],
   "source": [
    "\n",
    "ListeningLogLongTerm = pd.DataFrame()\n",
    "LongTermJsonRead = pd.read_json(FilePath)\n",
    "ListeningLogLongTerm = pd.concat([ListeningLogLongTerm, LongTermJsonRead])"
   ]
  },
  {
   "cell_type": "code",
   "execution_count": 19,
   "metadata": {},
   "outputs": [
    {
     "name": "stdout",
     "output_type": "stream",
     "text": [
      "                         ts                   username  \\\n",
      "0      2021-03-21T08:10:10Z  407g8pjvhimql7juguhgpb27i   \n",
      "1      2021-03-21T08:14:20Z  407g8pjvhimql7juguhgpb27i   \n",
      "2      2021-03-21T08:17:59Z  407g8pjvhimql7juguhgpb27i   \n",
      "3      2021-03-21T08:22:17Z  407g8pjvhimql7juguhgpb27i   \n",
      "4      2021-03-21T08:24:33Z  407g8pjvhimql7juguhgpb27i   \n",
      "...                     ...                        ...   \n",
      "16036  2021-06-28T22:21:28Z  407g8pjvhimql7juguhgpb27i   \n",
      "16037  2021-06-28T22:24:52Z  407g8pjvhimql7juguhgpb27i   \n",
      "16038  2021-06-28T22:26:03Z  407g8pjvhimql7juguhgpb27i   \n",
      "16039  2021-06-28T22:28:59Z  407g8pjvhimql7juguhgpb27i   \n",
      "16040  2021-06-28T22:30:15Z  407g8pjvhimql7juguhgpb27i   \n",
      "\n",
      "                      platform  ms_played conn_country ip_addr_decrypted  \\\n",
      "0      iOS 14.0.1 (iPhone11,2)     210884           US     64.93.225.198   \n",
      "1      iOS 14.0.1 (iPhone11,2)     250350           US     64.93.225.198   \n",
      "2      iOS 14.0.1 (iPhone11,2)     217655           US     64.93.225.198   \n",
      "3      iOS 14.0.1 (iPhone11,2)     257640           US     64.93.225.198   \n",
      "4      iOS 14.0.1 (iPhone11,2)     134238           US     64.93.225.198   \n",
      "...                        ...        ...          ...               ...   \n",
      "16036    iOS 14.6 (iPhone11,2)      57667           US     76.188.163.19   \n",
      "16037    iOS 14.6 (iPhone11,2)     203588           US     76.188.163.19   \n",
      "16038    iOS 14.6 (iPhone11,2)      70926           US     76.188.163.19   \n",
      "16039    iOS 14.6 (iPhone11,2)     175122           US     76.188.163.19   \n",
      "16040    iOS 14.6 (iPhone11,2)      75096           US     76.188.163.19   \n",
      "\n",
      "      user_agent_decrypted                         master_metadata_track_name  \\\n",
      "0                  unknown                                            Freesol   \n",
      "1                  unknown                          The Resonance of Energies   \n",
      "2                  unknown                                         Holding On   \n",
      "3                  unknown                                  Deeper Than Money   \n",
      "4                  unknown  Seen A Lot Of Things (feat. Ghostface Killah, ...   \n",
      "...                    ...                                                ...   \n",
      "16036              unknown                                            BLESSED   \n",
      "16037              unknown                          RISE! (feat. DAISY WORLD)   \n",
      "16038              unknown                                         MOMMA TALK   \n",
      "16039              unknown                     MANIFESTO (feat. Domo Genesis)   \n",
      "16040              unknown  SWEET / I THOUGHT YOU WANTED TO DANCE (feat. B...   \n",
      "\n",
      "      master_metadata_album_artist_name master_metadata_album_album_name  ...  \\\n",
      "0                           Seven Lions           Where I Won't Be Found  ...   \n",
      "1                          Mord Fustang        The Resonance of Energies  ...   \n",
      "2                                 Dabin                       Holding On  ...   \n",
      "3                                 Logic                  Bobby Tarantino  ...   \n",
      "4                          Wu-Tang Clan                  Of Mics And Men  ...   \n",
      "...                                 ...                              ...  ...   \n",
      "16036                Tyler, The Creator          CALL ME IF YOU GET LOST  ...   \n",
      "16037                Tyler, The Creator          CALL ME IF YOU GET LOST  ...   \n",
      "16038                Tyler, The Creator          CALL ME IF YOU GET LOST  ...   \n",
      "16039                Tyler, The Creator          CALL ME IF YOU GET LOST  ...   \n",
      "16040                Tyler, The Creator          CALL ME IF YOU GET LOST  ...   \n",
      "\n",
      "      episode_name  episode_show_name  spotify_episode_uri  reason_start  \\\n",
      "0              NaN                NaN                  NaN       backbtn   \n",
      "1              NaN                NaN                  NaN     trackdone   \n",
      "2              NaN                NaN                  NaN     trackdone   \n",
      "3              NaN                NaN                  NaN     trackdone   \n",
      "4              NaN                NaN                  NaN     trackdone   \n",
      "...            ...                ...                  ...           ...   \n",
      "16036          NaN                NaN                  NaN     trackdone   \n",
      "16037          NaN                NaN                  NaN     trackdone   \n",
      "16038          NaN                NaN                  NaN     trackdone   \n",
      "16039          NaN                NaN                  NaN     trackdone   \n",
      "16040          NaN                NaN                  NaN     trackdone   \n",
      "\n",
      "      reason_end shuffle  skipped  offline  offline_timestamp  incognito_mode  \n",
      "0      trackdone    True      NaN    False      1616313999472           False  \n",
      "1      trackdone    True      NaN    False      1616314209493           False  \n",
      "2      trackdone    True      NaN    False      1616314460266           False  \n",
      "3      trackdone    True      NaN    False      1616314678417           False  \n",
      "4         fwdbtn    True      NaN    False      1616314936587           False  \n",
      "...          ...     ...      ...      ...                ...             ...  \n",
      "16036  trackdone    True      NaN    False      1624918829724           False  \n",
      "16037  trackdone    True      NaN    False      1624918887871           False  \n",
      "16038  trackdone    True      NaN    False      1624919092032           False  \n",
      "16039  trackdone    True      NaN    False      1624919163390           False  \n",
      "16040     fwdbtn    True      NaN    False      1624919338817           False  \n",
      "\n",
      "[16041 rows x 21 columns]\n"
     ]
    }
   ],
   "source": [
    "print(ListeningLogLongTerm)"
   ]
  },
  {
   "cell_type": "code",
   "execution_count": null,
   "metadata": {},
   "outputs": [],
   "source": []
  },
  {
   "cell_type": "code",
   "execution_count": 10,
   "metadata": {},
   "outputs": [],
   "source": [
    "def load_config():\n",
    "    #need to add a file path correction here to automate finding the folder for the incorrect /\\\n",
    "    FolderLocation = input(\"Please Input the file path for the folder of the Long Term Listening Logs\")\n",
    "    FolderLocation = FolderLocation.replace(\"\\\\\", \"\\\\\")\n",
    "    ListeningLogLongTerm = pd.DataFrame()\n",
    "    NamingConvention = 'Streaming_History_Audio_202*_*.json'  #This matches any file that starts with Streaming_History_Audio_2020_ and use the * as a wildcard operator to match the number. \n",
    "    FilePaths = glob.glob(f'{FolderLocation}/{NamingConvention}')\n",
    "    for FilePath in FilePaths:\n",
    "        LongTermJsonRead = pd.read_json(FilePath)\n",
    "        ListeningLogLongTerm = pd.concat([ListeningLogLongTerm, LongTermJsonRead])\n",
    "    return ListeningLogLongTerm   "
   ]
  },
  {
   "cell_type": "code",
   "execution_count": 3,
   "metadata": {},
   "outputs": [],
   "source": [
    "ConfigTestor = load_config()"
   ]
  },
  {
   "cell_type": "code",
   "execution_count": 8,
   "metadata": {},
   "outputs": [
    {
     "name": "stdout",
     "output_type": "stream",
     "text": [
      "Empty DataFrame\n",
      "Columns: []\n",
      "Index: []\n"
     ]
    }
   ],
   "source": [
    "print(ConfigTestor)"
   ]
  }
 ],
 "metadata": {
  "kernelspec": {
   "display_name": "Python 3",
   "language": "python",
   "name": "python3"
  },
  "language_info": {
   "codemirror_mode": {
    "name": "ipython",
    "version": 3
   },
   "file_extension": ".py",
   "mimetype": "text/x-python",
   "name": "python",
   "nbconvert_exporter": "python",
   "pygments_lexer": "ipython3",
   "version": "3.11.5"
  }
 },
 "nbformat": 4,
 "nbformat_minor": 2
}
