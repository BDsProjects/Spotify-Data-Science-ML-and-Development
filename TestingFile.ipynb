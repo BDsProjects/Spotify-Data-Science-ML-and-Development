{
 "cells": [
  {
   "cell_type": "code",
   "execution_count": 1,
   "metadata": {},
   "outputs": [],
   "source": [
    "import pandas as pd\n",
    "import seaborn as sns\n",
    "import os\n",
    "import matplotlib as plt \n",
    "import json\n",
    "import importlib\n",
    "import glob"
   ]
  },
  {
   "cell_type": "code",
   "execution_count": null,
   "metadata": {},
   "outputs": [],
   "source": []
  },
  {
   "cell_type": "code",
   "execution_count": 10,
   "metadata": {},
   "outputs": [],
   "source": [
    "def load_config():\n",
    "    #need to add a file path correction here to automate finding the folder for the incorrect /\\\n",
    "    FolderLocation = input(\"Please Input the file path for the folder of the Long Term Listening Logs\")\n",
    "    FolderLocation = FolderLocation.replace(\"\\\\\", \"\\\\\")\n",
    "    ListeningLogLongTerm = pd.DataFrame()\n",
    "    NamingConvention = 'Streaming_History_Audio_202*_*.json'  #This matches any file that starts with Streaming_History_Audio_2020_ and use the * as a wildcard operator to match the number. \n",
    "    FilePaths = glob.glob(f'{FolderLocation}/{NamingConvention}')\n",
    "    for FilePath in FilePaths:\n",
    "        LongTermJsonRead = pd.read_json(FilePath)\n",
    "        ListeningLogLongTerm = pd.concat([ListeningLogLongTerm, LongTermJsonRead])\n",
    "    return ListeningLogLongTerm   "
   ]
  },
  {
   "cell_type": "code",
   "execution_count": 3,
   "metadata": {},
   "outputs": [],
   "source": [
    "ConfigTestor = load_config()"
   ]
  },
  {
   "cell_type": "code",
   "execution_count": 8,
   "metadata": {},
   "outputs": [
    {
     "name": "stdout",
     "output_type": "stream",
     "text": [
      "Empty DataFrame\n",
      "Columns: []\n",
      "Index: []\n"
     ]
    }
   ],
   "source": [
    "print(ConfigTestor)"
   ]
  }
 ],
 "metadata": {
  "kernelspec": {
   "display_name": "Python 3",
   "language": "python",
   "name": "python3"
  },
  "language_info": {
   "codemirror_mode": {
    "name": "ipython",
    "version": 3
   },
   "file_extension": ".py",
   "mimetype": "text/x-python",
   "name": "python",
   "nbconvert_exporter": "python",
   "pygments_lexer": "ipython3",
   "version": "3.11.5"
  }
 },
 "nbformat": 4,
 "nbformat_minor": 2
}
